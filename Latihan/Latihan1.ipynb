{
 "cells": [
  {
   "cell_type": "markdown",
   "metadata": {},
   "source": [
    "### Latihan 1\n",
    "Membuat identitas diri menggunakan pemograman python sederhana"
   ]
  },
  {
   "cell_type": "code",
   "execution_count": 1,
   "metadata": {},
   "outputs": [
    {
     "name": "stdout",
     "output_type": "stream",
     "text": [
      "Data Diri\n",
      "Nama     : Alvian Totonafo Mendrofa\n",
      "NIM      : 20220801045\n",
      "Fakultas : Ilmu Komputer\n",
      "Prodi    : Teknik Informatika\n"
     ]
    }
   ],
   "source": [
    "nama = \"Alvian Totonafo Mendrofa\"\n",
    "nim = \"20220801045\"\n",
    "fakultas = \"Ilmu Komputer\"\n",
    "prodi = \"Teknik Informatika\"\n",
    "\n",
    "print(\"Data Diri\")\n",
    "print(\"Nama     : \"+nama)\n",
    "print(\"NIM      : \"+nim)\n",
    "print(\"Fakultas : \"+fakultas)\n",
    "print(\"Prodi    : \"+prodi)"
   ]
  },
  {
   "cell_type": "markdown",
   "metadata": {},
   "source": [
    "### Latihan 2\n",
    "Membuat Matriks dengan ordo 3x3"
   ]
  },
  {
   "cell_type": "code",
   "execution_count": 2,
   "metadata": {},
   "outputs": [
    {
     "name": "stdout",
     "output_type": "stream",
     "text": [
      "[[1, 2, 3], [4, 5, 6], [7, 8, 9]]\n"
     ]
    }
   ],
   "source": [
    "matrice = [[1, 2, 3], [4, 5, 6], [7, 8, 9]]\n",
    "\n",
    "print(matrice)"
   ]
  },
  {
   "cell_type": "markdown",
   "metadata": {},
   "source": [
    "### Latihan 3\n",
    "Membuat Matriks dengan ordo 5x5 dengan menambahkan library NumPy didalamnya"
   ]
  },
  {
   "cell_type": "code",
   "execution_count": 3,
   "metadata": {},
   "outputs": [
    {
     "name": "stdout",
     "output_type": "stream",
     "text": [
      "[[ 0  1  2  3  4]\n",
      " [ 5  6  7  8  9]\n",
      " [10 11 12 13 14]\n",
      " [15 16 17 18 19]\n",
      " [20 21 22 23 24]]\n"
     ]
    }
   ],
   "source": [
    "from numpy import *\n",
    "\n",
    "matrice = range(25)\n",
    "matrice = reshape(matrice, (5, 5))\n",
    "\n",
    "print(matrice)"
   ]
  },
  {
   "cell_type": "markdown",
   "metadata": {},
   "source": [
    "### Latihan 4\n",
    "Membuat Matriks dengan menggunakan Library NumPy dengan orde 3x20, dan nilai elemen dimulai dari indeks 1 sampai dengan 10 secara random"
   ]
  },
  {
   "cell_type": "code",
   "execution_count": 4,
   "metadata": {},
   "outputs": [
    {
     "name": "stdout",
     "output_type": "stream",
     "text": [
      "[[7 9 1 1 5 3 7 9 4 9 8 2 4 4 9 9 9 1 1 5]\n",
      " [6 1 2 7 4 1 1 8 5 6 8 2 6 3 4 8 9 1 2 3]\n",
      " [2 8 7 8 4 2 6 8 8 6 7 9 9 7 3 3 7 1 5 5]]\n"
     ]
    }
   ],
   "source": [
    "import numpy as np\n",
    "from numpy import *\n",
    "\n",
    "matrice = np.random.randint(1, 10, (3, 20))\n",
    "print(matrice)"
   ]
  }
 ],
 "metadata": {
  "kernelspec": {
   "display_name": "Python 3",
   "language": "python",
   "name": "python3"
  },
  "language_info": {
   "codemirror_mode": {
    "name": "ipython",
    "version": 3
   },
   "file_extension": ".py",
   "mimetype": "text/x-python",
   "name": "python",
   "nbconvert_exporter": "python",
   "pygments_lexer": "ipython3",
   "version": "3.10.12"
  }
 },
 "nbformat": 4,
 "nbformat_minor": 2
}
